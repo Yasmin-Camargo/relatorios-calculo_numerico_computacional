{
  "nbformat": 4,
  "nbformat_minor": 0,
  "metadata": {
    "colab": {
      "provenance": []
    },
    "kernelspec": {
      "name": "python3",
      "display_name": "Python 3"
    },
    "language_info": {
      "name": "python"
    }
  },
  "cells": [
    {
      "cell_type": "code",
      "execution_count": null,
      "metadata": {
        "id": "Dpucu-JRm4jA"
      },
      "outputs": [],
      "source": [
        "import numpy as np\n",
        "import sympy as sp\n",
        "import math\n",
        "import matplotlib.pyplot as plt"
      ]
    },
    {
      "cell_type": "markdown",
      "source": [
        "#Relatório 3"
      ],
      "metadata": {
        "id": "BEzN2P0xnEAs"
      }
    },
    {
      "cell_type": "markdown",
      "source": [
        "**Nome:** Yasmin Souza Camargo"
      ],
      "metadata": {
        "id": "ChQC-KXRnI70"
      }
    },
    {
      "cell_type": "markdown",
      "source": [
        "##Métodos"
      ],
      "metadata": {
        "id": "7LdOq3DXnLW0"
      }
    },
    {
      "cell_type": "code",
      "source": [
        "def lagrange(m, x, y, z):\n",
        "  print('\\n=== LANGRANGE ===')\n",
        "  pz = 0\n",
        "  polinomio = \"\"\n",
        "\n",
        "  for i in range(0, m):\n",
        "    c = 1\n",
        "    d = 1\n",
        "    termo = \"\"\n",
        "\n",
        "    for j in range(0, m):\n",
        "      if i != j:\n",
        "        c = c * (z - x[j])\n",
        "        d = d * (x[i] - x[j])\n",
        "\n",
        "        if termo == \"\":\n",
        "          termo += \"(x - {})\".format(x[j])\n",
        "        else:\n",
        "          termo += \" * (x - {})\".format(x[j])\n",
        "\n",
        "    pz = pz + y[i] * (c/d)\n",
        "\n",
        "    if i != m-1:\n",
        "      polinomio += f'{y[i]} * ({termo}/{d}) + '\n",
        "    else:\n",
        "      polinomio += f'{y[i]} * ({termo}/{d})'\n",
        "\n",
        "  print(\"P(x) =\", polinomio)\n",
        "  print (f'=> Valor interpolado: {pz}')"
      ],
      "metadata": {
        "id": "CDz2nJxQn4aL"
      },
      "execution_count": null,
      "outputs": []
    },
    {
      "cell_type": "code",
      "source": [
        "def newton(m, x, y, z):\n",
        "    print('\\n=== NEWTON ===')\n",
        "    dely = []\n",
        "\n",
        "    for i in range(0, m):\n",
        "        dely.append(y[i])\n",
        "\n",
        "    # construção das diferenças divididas\n",
        "    polinomio = str(dely[0])\n",
        "    for i in range(1, m): # 1 - 5\n",
        "        for k in range(m-1, i-1, -1): # 4 - 0\n",
        "            dely[k] = (dely[k] - dely[k-1]) / (x[k] - x[k-i])\n",
        "\n",
        "        termo = str(dely[i])\n",
        "        for j in range(i):\n",
        "            termo += \" * (x - {})\".format(x[j])\n",
        "        polinomio += \" + \" + termo\n",
        "\n",
        "    print(\"P(x) =\", polinomio)\n",
        "\n",
        "    # Avaliação do polinômio pelo método de Horner\n",
        "    pz = dely[m-1]\n",
        "    for i in range(m-2, -1, -1):\n",
        "        pz = pz * (z - x[i]) + dely[i]\n",
        "\n",
        "    print (f'=> Valor interpolado: {pz}')"
      ],
      "metadata": {
        "id": "n7x8tGpwrPLG"
      },
      "execution_count": null,
      "outputs": []
    },
    {
      "cell_type": "code",
      "source": [
        "import numpy as np\n",
        "import math\n",
        "import matplotlib.pyplot as plt\n",
        "\n",
        "def spline_cubica_natural(n, x, y):\n",
        "    print('\\n=== SPLINE CUBICA NATURAL ===')\n",
        "\n",
        "    if (n < 3):\n",
        "        info = -1\n",
        "        return \"erro\"\n",
        "\n",
        "    x.sort()\n",
        "\n",
        "    info = 0\n",
        "    m = n - 2\n",
        "    e = [0] * (m)\n",
        "    d = [0] * (m)\n",
        "    s2 = [0] * (n)\n",
        "    hB = 0\n",
        "\n",
        "    # Construção do sistema linear tridiagonal simétrico\n",
        "    hA = x[1] - x[0]\n",
        "    deltaA = (y[1] - y[0]) / hA\n",
        "    for i in range(0, m):\n",
        "        ip1 = i + 1\n",
        "        ip2 = i + 2\n",
        "        hB = x[ip2] - x[ip1]\n",
        "        deltaB = (y[ip2] - y[ip1]) / hB\n",
        "\n",
        "        e[i] = hB\n",
        "        d[i] = 2 * (hA + hB)\n",
        "        s2[ip1] = 6 * (deltaB - deltaA)\n",
        "        hA = hB\n",
        "        deltaA = deltaB\n",
        "\n",
        "    # Resolução do sistema\n",
        "    mat = []\n",
        "    for _ in range(n-2):\n",
        "        linha = [0] * (n-2)\n",
        "        mat.append(linha)\n",
        "\n",
        "    mat = np.zeros((m, m), dtype=float)\n",
        "    np.fill_diagonal(mat, d)\n",
        "    np.fill_diagonal(mat[:, 1:], e)\n",
        "    np.fill_diagonal(mat[1:, :], e)\n",
        "\n",
        "    mat = np.array(mat, dtype=float)\n",
        "    s2.pop(n-1)\n",
        "    s2.pop(0)\n",
        "    s2 = np.array(s2, dtype=float)\n",
        "\n",
        "    s2 = np.linalg.solve(mat, s2)\n",
        "    s2 = np.concatenate(([0], s2, [0]))\n",
        "\n",
        "    # Imprimindo os resultados\n",
        "    splines = []\n",
        "    for i in range(1, n):\n",
        "        h = x[i] - x[i - 1]\n",
        "        ai = y[i - 1]\n",
        "        bi = ((y[i] - y[i - 1]) / h) + ((2*h *s2[i] +  s2[i - 1] * h) / 6)\n",
        "        ci = s2[i] / 2\n",
        "        di = (s2[i] - s2[i - 1]) / (6 * h)\n",
        "\n",
        "        polinomio = f'{ai} + {bi:.5f} * (x - {x[i - 1]}) + {ci:.5f} * (x - {x[i - 1]})**2 + {di:.5f} * (x - {x[i - 1]})**3'\n",
        "        splines.append(eval(f\"lambda x: {polinomio}\"))\n",
        "        print(polinomio)\n",
        "\n",
        "    return splines"
      ],
      "metadata": {
        "id": "lVeaoNOqtp7J"
      },
      "execution_count": null,
      "outputs": []
    },
    {
      "cell_type": "code",
      "source": [
        "def minimos_quadrados(x, y, n, tipo):\n",
        "  print('\\n===  MÍNIMOS QUADRADOS ===')\n",
        "  sumx, sumxy, sumy, sumx2 = 0, 0, 0, 0\n",
        "  sumx3, sumx4, sumx2y = 0, 0, 0\n",
        "  st, sr = 0, 0\n",
        "\n",
        "  for i in range(0, n):\n",
        "    if tipo == 'linear' or tipo == 'parabola':\n",
        "      sumx += x[i]\n",
        "      sumy += y[i]\n",
        "      sumxy += x[i] * y[i]\n",
        "      sumx2 += x[i] ** 2\n",
        "\n",
        "      if tipo == 'parabola':\n",
        "        sumx3 += x[i] ** 3\n",
        "        sumx4 += x[i] ** 4\n",
        "        sumx2y += x[i] ** 2 * y[i]\n",
        "\n",
        "    elif tipo == 'potencia':\n",
        "      if x[i] == 0:\n",
        "        return 'ERRO: Não é possível calcular, x deve ser diferente de zero'\n",
        "      sumx += np.log(x[i])\n",
        "      sumy += np.log(y[i])\n",
        "      sumxy += np.log(x[i]) * np.log(y[i])\n",
        "      sumx2 += np.log(x[i]) ** 2\n",
        "\n",
        "  xm = sumx / n\n",
        "  ym = sumy / n\n",
        "\n",
        "  if tipo == 'linear' or tipo == 'potencia':\n",
        "    a1 = (n * sumxy - sumx * sumy) / (n * sumx2 - sumx * sumx)\n",
        "    a0 = ym - (a1 * xm)\n",
        "\n",
        "  elif tipo == 'parabola':\n",
        "    A = np.array([[n, sumx, sumx2],\n",
        "                  [sumx, sumx2, sumx3],\n",
        "                  [sumx2, sumx3, sumx4]])\n",
        "    B = np.array([sumy, sumxy, sumx2y])\n",
        "\n",
        "    coeficientes = np.linalg.solve(A, B)\n",
        "    a0, a1, a2 = coeficientes[0], coeficientes[1], coeficientes[2]\n",
        "\n",
        "  for i in range(0, n):\n",
        "    st = st + pow(y[i] - ym, 2)\n",
        "    sr = sr + pow(y[i] - a1 * x[i] - a0, 2)\n",
        "  sxy = pow(sr / (n - 2), 0.5)\n",
        "  r2 = (st - sr) / st\n",
        "\n",
        "  if tipo == 'linear':\n",
        "    print(' ---> linear')\n",
        "    polinomio = lambda x: a1 * x + a0\n",
        "    print(f\"y = {a1:.2f}x + {a0:.2f}\")\n",
        "\n",
        "  elif tipo == 'potencia':\n",
        "    print(' ---> potencia')\n",
        "    a0 = np.exp(a0)\n",
        "    polinomio = lambda x: a0 * x ** a1\n",
        "    print(f\"y = {a0:.2f}x ** {a1:.2f}\")\n",
        "\n",
        "  else:\n",
        "    print(' ---> parabola')\n",
        "    polinomio = lambda x: a2 * x**2 + a1 * x + a0\n",
        "    print(f\"y = {a2:.2f}x ** 2 + {a1:.2f} * x + {a0:.2f}\")\n",
        "\n",
        "  return polinomio"
      ],
      "metadata": {
        "id": "NLrUU9tSuT5r"
      },
      "execution_count": null,
      "outputs": []
    },
    {
      "cell_type": "code",
      "source": [
        "def grafico_mmq(x, y, f, tipo, valor):\n",
        "    plt.scatter(x, y, label='Pontos', color='red')\n",
        "    x_values = np.linspace(min(x), max(x), 100)\n",
        "    y_values = [f(x_val) for x_val in x_values]\n",
        "    plt.plot(x_values, y_values, label=tipo)\n",
        "    plt.scatter(valor, f(valor), color='green', label='Valor {}'.format(valor))\n",
        "    plt.xlabel('X')\n",
        "    plt.ylabel('f(X)')\n",
        "    plt.title('Gráfico MMQ')\n",
        "    plt.legend()\n",
        "    plt.grid(True)\n",
        "    plt.show()"
      ],
      "metadata": {
        "id": "bGaVYT2L45D3"
      },
      "execution_count": null,
      "outputs": []
    },
    {
      "cell_type": "markdown",
      "source": [
        "##Questões"
      ],
      "metadata": {
        "id": "I0LCoRpkq8z9"
      }
    },
    {
      "cell_type": "markdown",
      "source": [
        "###Questão 1\n",
        "**Os dados a seguir para a densidade do gás nitrogênio versus a temperatura são provenientes de uma tabela que foi medida com alta precisão. Use polinômios de primeiro a quinto graus para fazer uma estimativa da densidade em uma temperatura de 330 K. Qual é sua melhor estimativa?**\n",
        "\n",
        "\\begin{array}{c|cccccc}\n",
        "    T,K & 200 & 250 & 300 & 350 & 400 & 450 \\\\\n",
        "    \\hline\n",
        "    Densidade, kg/m^3 & 1.708 & 1.367 & 1.139 & 0.967 & 0.854 & 0.759 \\\\\n",
        "\\end{array}"
      ],
      "metadata": {
        "id": "o4SfmklK_jAK"
      }
    },
    {
      "cell_type": "markdown",
      "source": [
        "Para a resolução deste primeiro exercício separei as entradas da seguinte maneira, levando em consideração que a faixa da temperatura de 330 deve estar incluida:\n",
        "\n",
        "- Polinômio de quarto grau: Removi o primeiro ponto.\n",
        "- Polinômio de terceiro grau: Removi o primeiro e o último ponto.\n",
        "- Polinômio de segundo grau: Removi os dois primeiros pontos.\n",
        "- Polinômio de primeiro grau: Removi os dois últimos pontos."
      ],
      "metadata": {
        "id": "kdEkZZbJ04D2"
      }
    },
    {
      "cell_type": "code",
      "source": [
        "valor_estimado = 330.0\n",
        "\n",
        "n5 = 6 #Polinômio de quinto grau\n",
        "x5 = np.array([200.0, 250.0, 300.0, 350.0, 400.0, 450])\n",
        "y5 = np.array([1.708, 1.367, 1.139, 0.967, 0.854, 0.759])\n",
        "\n",
        "n4 = 5 #Polinômio de quarto grau\n",
        "x4 = np.array([250.0, 300.0, 350.0, 400.0, 450])\n",
        "y4 = np.array([1.367, 1.139, 0.967, 0.854, 0.759])\n",
        "\n",
        "n3 = 4 #Polinômio de terceiro grau\n",
        "x3 = np.array([250.0, 300.0, 350.0, 400.0])\n",
        "y3 = np.array([1.367, 1.139, 0.967, 0.854])\n",
        "\n",
        "n2 = 3 #Polinômio de segundo grau\n",
        "x2 = np.array([300.0, 350.0, 400.0])\n",
        "y2 = np.array([1.139, 0.967, 0.854])\n",
        "\n",
        "n1 = 2 #Polinômio de primeiro grau\n",
        "x1 = np.array([300.0, 350.0])\n",
        "y1 = np.array([1.139, 0.967])"
      ],
      "metadata": {
        "id": "GegDZUSKmoHR"
      },
      "execution_count": null,
      "outputs": []
    },
    {
      "cell_type": "markdown",
      "source": [
        "O método escolhido para resolver este exercício foi o método de Lagrange. A seguir, os polinômios interpoladores foram executados para cada grau (iniciando pelo quinto ao primeiro grau), utilizando os pontos de dados selecionados conforme descrito acima.\n",
        "Na execução do método é mostrado o polinômio interpolador e o resultado obtido do valor interpolado."
      ],
      "metadata": {
        "id": "84cCViBivMps"
      }
    },
    {
      "cell_type": "code",
      "source": [
        "lagrange(n5, x5, y5, valor_estimado)\n",
        "lagrange(n4, x4, y4, valor_estimado)\n",
        "lagrange(n3, x3, y3, valor_estimado)\n",
        "lagrange(n2, x2, y2, valor_estimado)\n",
        "lagrange(n1, x1, y1, valor_estimado)"
      ],
      "metadata": {
        "colab": {
          "base_uri": "https://localhost:8080/"
        },
        "id": "EdjW_ojMv5Ts",
        "outputId": "c5d26584-8be1-4cf5-ad91-b7d1d751c25b"
      },
      "execution_count": null,
      "outputs": [
        {
          "output_type": "stream",
          "name": "stdout",
          "text": [
            "\n",
            "=== LANGRANGE ===\n",
            "P(x) = 1.708 * ((x - 250.0) * (x - 300.0) * (x - 350.0) * (x - 400.0) * (x - 450.0)/-37500000000.0) + 1.367 * ((x - 200.0) * (x - 300.0) * (x - 350.0) * (x - 400.0) * (x - 450.0)/7500000000.0) + 1.139 * ((x - 200.0) * (x - 250.0) * (x - 350.0) * (x - 400.0) * (x - 450.0)/-3750000000.0) + 0.967 * ((x - 200.0) * (x - 250.0) * (x - 300.0) * (x - 400.0) * (x - 450.0)/3750000000.0) + 0.854 * ((x - 200.0) * (x - 250.0) * (x - 300.0) * (x - 350.0) * (x - 450.0)/-7500000000.0) + 0.759 * ((x - 200.0) * (x - 250.0) * (x - 300.0) * (x - 350.0) * (x - 400.0)/37500000000.0)\n",
            "=> Valor interpolado: 1.029020608\n",
            "\n",
            "=== LANGRANGE ===\n",
            "P(x) = 1.367 * ((x - 300.0) * (x - 350.0) * (x - 400.0) * (x - 450.0)/150000000.0) + 1.139 * ((x - 250.0) * (x - 350.0) * (x - 400.0) * (x - 450.0)/-37500000.0) + 0.967 * ((x - 250.0) * (x - 300.0) * (x - 400.0) * (x - 450.0)/25000000.0) + 0.854 * ((x - 250.0) * (x - 300.0) * (x - 350.0) * (x - 450.0)/-37500000.0) + 0.759 * ((x - 250.0) * (x - 300.0) * (x - 350.0) * (x - 400.0)/150000000.0)\n",
            "=> Valor interpolado: 1.0279023999999999\n",
            "\n",
            "=== LANGRANGE ===\n",
            "P(x) = 1.367 * ((x - 300.0) * (x - 350.0) * (x - 400.0)/-750000.0) + 1.139 * ((x - 250.0) * (x - 350.0) * (x - 400.0)/250000.0) + 0.967 * ((x - 250.0) * (x - 300.0) * (x - 400.0)/-250000.0) + 0.854 * ((x - 250.0) * (x - 300.0) * (x - 350.0)/750000.0)\n",
            "=> Valor interpolado: 1.028888\n",
            "\n",
            "=== LANGRANGE ===\n",
            "P(x) = 1.139 * ((x - 350.0) * (x - 400.0)/5000.0) + 0.967 * ((x - 300.0) * (x - 400.0)/-2500.0) + 0.854 * ((x - 300.0) * (x - 350.0)/5000.0)\n",
            "=> Valor interpolado: 1.02872\n",
            "\n",
            "=== LANGRANGE ===\n",
            "P(x) = 1.139 * ((x - 350.0)/-50.0) + 0.967 * ((x - 300.0)/50.0)\n",
            "=> Valor interpolado: 1.0358\n"
          ]
        }
      ]
    },
    {
      "cell_type": "markdown",
      "source": [
        "Ao analisar os resultados, é evidente que os valores obtidos são bastante próximos, destacando-se os valores interpolados para o terceiro e quarto graus, que são os mais semelhantes entre si.\n",
        "\n",
        "De modo geral, ao aumentar o número de termos na expressão (ou seja, o grau do polinômio), permite-se que o polinômio se ajuste melhor aos pontos de dados. No entanto, à medida que o grau aumenta, também pode surgir o problema da oscilação.\n",
        "\n",
        "Portanto, sem acesso ao valor verdadeiro, não podemos determinar com certeza qual grau proporciona a melhor estimativa. Por essa razão, uma abordagem é examinar a Tabela de Diferenças Divididas:\n"
      ],
      "metadata": {
        "id": "Lim1A2xk2OWW"
      }
    },
    {
      "cell_type": "code",
      "source": [
        "def diferenca_dividida(x, y):\n",
        "    n = len(x)\n",
        "    matriz = np.zeros((n, n))\n",
        "    matriz[:, 0] = y\n",
        "\n",
        "    print('[ ordem 0,  ordem 1,  ordem 2,  ordem 3,  ordem 4,  ordem 5 ]')\n",
        "\n",
        "    for j in range(1, n):\n",
        "        for i in range(n - j):\n",
        "            matriz[i][j] = (matriz[i + 1][j - 1] - matriz[i][j - 1]) / (x[i + j] - x[i])\n",
        "\n",
        "    for linha in matriz:\n",
        "      print(\"[\", end=\" \")\n",
        "      for elemento in linha:\n",
        "          print(\"{:.6f}\".format(elemento), end=\", \")\n",
        "      print(\"]\")\n",
        "\n",
        "diferenca_dividida(x5, y5)"
      ],
      "metadata": {
        "colab": {
          "base_uri": "https://localhost:8080/"
        },
        "id": "U85ztfmsBdcq",
        "outputId": "5afdfa51-fe33-4a3c-aeb0-eb0cd66b1388"
      },
      "execution_count": null,
      "outputs": [
        {
          "output_type": "stream",
          "name": "stdout",
          "text": [
            "[ ordem 0,  ordem 1,  ordem 2,  ordem 3,  ordem 4,  ordem 5 ]\n",
            "[ 1.708000, -0.006820, 0.000023, -0.000000, 0.000000, -0.000000, ]\n",
            "[ 1.367000, -0.004560, 0.000011, 0.000000, -0.000000, 0.000000, ]\n",
            "[ 1.139000, -0.003440, 0.000012, -0.000000, 0.000000, 0.000000, ]\n",
            "[ 0.967000, -0.002260, 0.000004, 0.000000, 0.000000, 0.000000, ]\n",
            "[ 0.854000, -0.001900, 0.000000, 0.000000, 0.000000, 0.000000, ]\n",
            "[ 0.759000, 0.000000, 0.000000, 0.000000, 0.000000, 0.000000, ]\n"
          ]
        }
      ]
    },
    {
      "cell_type": "markdown",
      "source": [
        "Ao analisarmos essa tabela, conseguimos entender o comportamento e a estabilidade das estimativas à medida que o grau do polinômio aumenta.\n",
        "Os coeficientes das ordens mais altas são próximos de zero, sugerindo uma tendência para a estabilidade das estimativas conforme o grau do polinômio aumenta. Assim, um polinômio de segundo ou terceiro grau parece ser uma escolha adequada para esta estimativa.\n",
        "\n",
        "Portanto, considerando a precisão dos resultados e a proximidade entre os valores interpolados, a melhor estimativa para a densidade do gás nitrogênio a 330 K parece ser 1.028888 kg/m³, utilizando um polinômio de terceiro grau."
      ],
      "metadata": {
        "id": "2AOege4pKBaV"
      }
    },
    {
      "cell_type": "markdown",
      "source": [
        "###Questão 2\n",
        "**O volume específico de um vapor superaquecido está listado em tabelas de vapor para diversas temperaturas. Por exemplo, na pressão absoluta de 3.000lb/pol2:**\n",
        "\n",
        "\\begin{array}{c|ccccc}\n",
        "    T, ^\\circ C & 370 & 382 & 394 & 406 & 418 \\\\\n",
        "    \\hline\n",
        "    V, Litro/kg & 5,9313 & 7,5838 & 8,8428 & 9,7960 & 10,5311 \\\\\n",
        "\\end{array}\n",
        "\n",
        "**Determine V em T = 400 ºC**"
      ],
      "metadata": {
        "id": "13BSE_YGAYW0"
      }
    },
    {
      "cell_type": "markdown",
      "source": [
        "Para realizar este exercício, escolhi empregar o método de Newton utilizando uma estimativa de quarto grau, utilizando todos os valores fornecidos no exercício. Similar ao método de Lagrange, a execução do método de Newton resulta na impressão do polinômio interpolador e do valor interpolado obtido."
      ],
      "metadata": {
        "id": "fvv3Yn-AAs6r"
      }
    },
    {
      "cell_type": "code",
      "source": [
        "x = np.array([370.0, 382.0, 394.0, 406.0, 418.0])\n",
        "y = np.array([5.9313, 7.5838, 8.8428, 9.7960, 10.5311])\n",
        "n = 5\n",
        "valor_estimado = 400.0\n",
        "\n",
        "newton(n, x, y, valor_estimado)"
      ],
      "metadata": {
        "id": "JkTxIT7QnDDA",
        "colab": {
          "base_uri": "https://localhost:8080/"
        },
        "outputId": "e935c286-653f-4e83-bae9-7fe9ad9b6374"
      },
      "execution_count": null,
      "outputs": [
        {
          "output_type": "stream",
          "name": "stdout",
          "text": [
            "\n",
            "=== NEWTON ===\n",
            "P(x) = 5.9313 + 0.13770833333333332 * (x - 370.0) + -0.0013663194444444426 * (x - 370.0) * (x - 382.0) + 8.458719135802276e-06 * (x - 370.0) * (x - 382.0) * (x - 394.0) + 1.1046721353774833e-20 * (x - 370.0) * (x - 382.0) * (x - 394.0) * (x - 406.0)\n",
            "=> Valor interpolado: 9.35214375\n"
          ]
        }
      ]
    },
    {
      "cell_type": "markdown",
      "source": [
        "O valor obtido indica que em uma temperatura de 400 ºC tem-se o volume de vapor de aproximadamente 9.352 Litro/kg. Essa estimativa nos permite entender o comportamento do volume específico do vapor em uma temperatura que não está diretamente representada nos dados originais."
      ],
      "metadata": {
        "id": "VkuHVhs9_X6B"
      }
    },
    {
      "cell_type": "markdown",
      "source": [
        "###Questão 3\n",
        "**As funções de Bessel aparecem com frequência em análises avançadas de engenharia tais como o estudo de campos elétricos. Essas funções geralmente não são passíveis de avaliação simples e, portanto, são frequentemente compiladas em tabelas matemáticas padrões. Por exemplo:**\n",
        "\n",
        "\\begin{array}{c|ccccc}\n",
        "    x & 1.8 & 2.0 & 2.2 & 2.4 & 2.6 \\\\\n",
        "    \\hline\n",
        "    J1(x) & 0.5815 & 0.5767 & 0.5560 & 0.5202 & 0.4708 \\\\\n",
        "\\end{array}\n",
        "\n",
        "**Estime J1(2,1)**\n",
        "\n",
        "**a) utilizando um polinômio interpolador**\n",
        "\n",
        "**b) utilizando splines cúbicas naturais. Observe que o valor verdadeiro é 0,5683.**"
      ],
      "metadata": {
        "id": "Wd0eBpv_Bt-I"
      }
    },
    {
      "cell_type": "markdown",
      "source": [
        "No contexto deste exercício, apliquei o método de Newton para o polinômio interpolador (letra a) e utilizei uma spline cúbica natural (letra b). Como a spline cúbica retorna quatro segmentos, realizei a estimativa para o segundo segmento, pois ele abrange o número *2.1*."
      ],
      "metadata": {
        "id": "7iV1z1PiEsrT"
      }
    },
    {
      "cell_type": "code",
      "source": [
        "x = np.array([1.8, 2.0, 2.2, 2.4, 2.6])\n",
        "y = np.array([0.5815, 0.5767, 0.5560, 0.5202, 0.4708])\n",
        "n = 5\n",
        "valor_estimado = 2.1\n",
        "\n",
        "newton(n, x, y, valor_estimado)\n",
        "print(f'=> Valor = {spline_cubica_natural(n, x, y)[1](valor_estimado)}')"
      ],
      "metadata": {
        "id": "LPpQx4L4nzRc",
        "colab": {
          "base_uri": "https://localhost:8080/"
        },
        "outputId": "8b4ad1bc-214e-4b28-fb4a-35bc7f7301a3"
      },
      "execution_count": null,
      "outputs": [
        {
          "output_type": "stream",
          "name": "stdout",
          "text": [
            "\n",
            "=== NEWTON ===\n",
            "P(x) = 0.5815 + -0.02400000000000014 * (x - 1.8) + -0.1987499999999986 * (x - 1.8) * (x - 2.0) + 0.01666666666666044 * (x - 1.8) * (x - 2.0) * (x - 2.2) + 0.0182291666666831 * (x - 1.8) * (x - 2.0) * (x - 2.2) * (x - 2.4)\n",
            "=> Valor interpolado: 0.56830390625\n",
            "\n",
            "=== SPLINE CUBICA NATURAL ===\n",
            "0.5815 + -0.05823 * (x - 1.8) + -0.25674 * (x - 1.8)**2 + -0.42790 * (x - 1.8)**3\n",
            "0.5767 + -0.14269 * (x - 2.0) + -0.16554 * (x - 2.0)**2 + 0.15201 * (x - 2.0)**3\n",
            "0.556 + -0.21852 * (x - 2.2) + -0.21362 * (x - 2.2)**2 + -0.08013 * (x - 2.2)**3\n",
            "0.5202 + -0.26124 * (x - 2.4) + 0.00000 * (x - 2.4)**2 + 0.35603 * (x - 2.4)**3\n",
            "=> Valor = 0.56092761\n"
          ]
        }
      ]
    },
    {
      "cell_type": "markdown",
      "source": [
        "Ambas as estimativas são bastante próximas do valor verdadeiro, mas a estimativa do método de Newton é um pouco mais precisa, pois chegou mais próximo do valor verdadeiro enquanto que na spline apresentou diferença na terceira casa decimal.\n",
        "\n",
        "Apesar das Splines serem geralmente mais suaves e flexíveis em lidar com conjuntos de dados complexos, os resultados obtidos demonstram que nem sempre é a melhor opção. Isso acontece porque as splines cúbicas naturais, ao ajustarem segmentos separados entre os pontos de dados, podem introduzir desvios nos valores interpolados, resultando em uma tendência a superestimar ou subestimar os resultados, especialmente em regiões com poucos pontos de dados.\n",
        "\n",
        "Portanto, nesse caso o método de Newton se ajusta mais precisamente aos padrões nos dados fornecidos."
      ],
      "metadata": {
        "id": "rMFX4Zp9GLt4"
      }
    },
    {
      "cell_type": "markdown",
      "source": [
        "###Questão 4\n",
        "\n",
        "**A viscosidade dinâmica da água μ(10^-3 N.s/m^2) está relacionada com a temperatura T(ºC) da seguinte maneira:**\n",
        "\n",
        "\\begin{array}{c|cccccc}\n",
        "    T (^{\\circ}\\mathrm{C}) & 0 & 5 & 10 & 20 & 30 & 40 \\\\\n",
        "    \\hline\n",
        "    \\mu (10^{-3} \\, \\mathrm{N.s/m^2}) & 1{,}787 & 1{,}519 & 1{,}307 & 1{,}002 & 0{,}7975 & 0{,}6529 \\\\\n",
        "\\end{array}\n",
        "\n",
        "**a) Trace o diagrama de dispersão dos dados.**\n",
        "\n",
        "**b) Use o método dos mínimos quadrados para ajustar uma reta, um equação de potência e uma parábola. Para a equação de potência empregue transformações para linearizar os dados.**\n",
        "\n",
        "**c) Verifique e justifique qual a equação do melhor ajuste. Utilize ela para prever μ em T = 7,5 ºC.**"
      ],
      "metadata": {
        "id": "rZ2geaFZCHbl"
      }
    },
    {
      "cell_type": "markdown",
      "source": [
        "Abaixo, apresenta-se a aplicação do método dos mínimos quadrados para ajustar uma reta, uma equação de potência e uma parábola aos dados. Os resultados incluem a função gerada para cada tipo de regressão, o valor de μ quando T = 7.5 ºC e um diagrama de dispersão dos dados, permitindo uma visualização clara dos ajustes realizados."
      ],
      "metadata": {
        "id": "VGPJbkPfy5V6"
      }
    },
    {
      "cell_type": "code",
      "source": [
        "x = np.array([0.0, 5.0, 10.0, 20.0, 30.0, 40.0])\n",
        "y = np.array([1.787, 1.519, 1.307, 1.002, 0.7975, 0.6529])\n",
        "n = 6\n",
        "valor_estimado = 7.5\n",
        "\n",
        "f = minimos_quadrados(x, y, n, 'linear')\n",
        "print(f'\\ny(7.5) = {f(valor_estimado)}')\n",
        "grafico_mmq(x, y, f, 'Linear', valor_estimado)\n",
        "\n",
        "g = minimos_quadrados(x, y, n, 'parabola')\n",
        "print(f'\\ny(7.5) = {g(valor_estimado)}')\n",
        "grafico_mmq(x, y, g, 'parabola', valor_estimado)\n",
        "\n",
        "minimos_quadrados(x, y, n, 'potencia')"
      ],
      "metadata": {
        "id": "8siVYLCDoFlL",
        "colab": {
          "base_uri": "https://localhost:8080/",
          "height": 1000
        },
        "outputId": "dadb3aa1-59a2-4de4-e4e2-a50a96c93b26"
      },
      "execution_count": null,
      "outputs": [
        {
          "output_type": "stream",
          "name": "stdout",
          "text": [
            "\n",
            "===  MÍNIMOS QUADRADOS ===\n",
            " ---> linear\n",
            "y = -0.03x + 1.66\n",
            "\n",
            "y(7.5) = 1.4546066666666664\n"
          ]
        },
        {
          "output_type": "display_data",
          "data": {
            "text/plain": [
              "<Figure size 640x480 with 1 Axes>"
            ],
            "image/png": "[encoded data removed]"
          },
          "metadata": {}
        },
        {
          "output_type": "stream",
          "name": "stdout",
          "text": [
            "\n",
            "===  MÍNIMOS QUADRADOS ===\n",
            " ---> parabola\n",
            "y = 0.00x ** 2 + -0.05 * x + 1.77\n",
            "\n",
            "y(7.5) = 1.4268889576826982\n"
          ]
        },
        {
          "output_type": "display_data",
          "data": {
            "text/plain": [
              "<Figure size 640x480 with 1 Axes>"
            ],
            "image/png": "[encoded data removed]"
          },
          "metadata": {}
        },
        {
          "output_type": "stream",
          "name": "stdout",
          "text": [
            "\n",
            "===  MÍNIMOS QUADRADOS ===\n"
          ]
        },
        {
          "output_type": "execute_result",
          "data": {
            "text/plain": [
              "'ERRO: Não é possível calcular, x deve ser diferente de zero'"
            ],
            "application/vnd.google.colaboratory.intrinsic+json": {
              "type": "string"
            }
          },
          "metadata": {},
          "execution_count": 12
        }
      ]
    },
    {
      "cell_type": "markdown",
      "source": [
        "Ao analisar os gráficos gerados para a regressão linear, observamos que embora alguns pontos estejam próximos da reta, outros ainda estão distantes dela. Isso sugere que os dados não são exatamente lineares, já que o modelo não captura adequadamente a tendência dos dados.\n",
        "\n",
        "Na tentativa de aplicar a regressão polinomial de potência, nos deparamos com uma limitação: a impossibilidade de continuar a execução do método. Isso ocorre devido à presença de um valor de x igual a zero. Como o logaritmo de zero é indefinido, não é viável realizar o cálculo necessário. Portanto, esse modelo não pode ser utilizado para este conjunto de dados.\n",
        "\n",
        "Por outro lado, ao considerar a regressão parabólica, notamos que todos os pontos estão mais próximos da curva, sugerindo um ajuste mais preciso. Isso indica que a modelagem parabólica é mais apropriada para descrever a relação entre as variáveis, proporcionando uma representação mais fiel dos dados. Logo, podems considerar que μ em T = 7,5 ºC é igual aproximadamente igual a 1.4269.\n",
        "\n",
        "Esta análise ressalta a importância de escolher o modelo de regressão apropriado para descrever com precisão o comportamento dos dados e fazer previsões confiáveis."
      ],
      "metadata": {
        "id": "9Kph2K6iy3VO"
      }
    }
  ]
}