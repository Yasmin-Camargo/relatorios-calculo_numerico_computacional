{
  "nbformat": 4,
  "nbformat_minor": 0,
  "metadata": {
    "colab": {
      "provenance": []
    },
    "kernelspec": {
      "name": "python3",
      "display_name": "Python 3"
    },
    "language_info": {
      "name": "python"
    }
  },
  "cells": [
    {
      "cell_type": "code",
      "source": [
        "import numpy as np\n",
        "import sympy as sp\n",
        "import math\n",
        "import matplotlib.pyplot as plt"
      ],
      "metadata": {
        "id": "pL4RPvW-LDfd"
      },
      "execution_count": 1,
      "outputs": []
    },
    {
      "cell_type": "markdown",
      "source": [
        "#Relatório 2\n"
      ],
      "metadata": {
        "id": "uWaqKTxKLBJW"
      }
    },
    {
      "cell_type": "markdown",
      "source": [
        "**Nome:** Yasmin Souza Camargo"
      ],
      "metadata": {
        "id": "QinqzDfoRqZS"
      }
    },
    {
      "cell_type": "markdown",
      "source": [
        "##Métodos"
      ],
      "metadata": {
        "id": "3rfhT11FLMK9"
      }
    },
    {
      "cell_type": "code",
      "source": [
        "def eliminacaoGauss(n, A, b, arredondamento=100, pivotamento_parcial=True):\n",
        "    print('\\n=== ELIMINAÇÃO DE GAUSS ===')\n",
        "    det = 1.0  # Inicializa variaveis\n",
        "    info = 0.0\n",
        "\n",
        "    # Verifica se as dimensões de A e b são consistentes para a eliminação de Gauss\n",
        "    if len(A) != len(A[0]) or len(A) != len(b):\n",
        "        return \"ERRO dimensões NÃO são consistentes\"\n",
        "\n",
        "    # Loop principal para a eliminação de Gauss\n",
        "    for j in range(0, n-1):\n",
        "        b_copy = np.round(np.copy(b), arredondamento)\n",
        "\n",
        "        # Escolha do pivô\n",
        "        p = np.round(j, arredondamento)\n",
        "        Amax = np.round(abs(A[j][j]), arredondamento)\n",
        "\n",
        "        if pivotamento_parcial == True:\n",
        "            p, Amax, det, A, b  = pivotamentoParcial(p, j, Amax, det, A, b, n, arredondamento)\n",
        "\n",
        "        det = np.round(det * A[j][j], arredondamento)\n",
        "\n",
        "        # Eliminação de Gauss\n",
        "        if abs(A[j][j]) != 0:\n",
        "            r =  np.round(1 / A[j][j], arredondamento)\n",
        "            for i in range(j + 1, n):\n",
        "                mult =  np.round(A[i][j] * r, arredondamento)\n",
        "                A[i][j] = np.round(0, arredondamento)\n",
        "\n",
        "                for k in range(j + 1, n):\n",
        "                    A[i][k] = np.round(A[i][k] - mult * A[j][k], arredondamento)\n",
        "                b[i] = np.round(b[i] - mult * b[j], arredondamento)\n",
        "        else:\n",
        "          if info == 0:\n",
        "            info = np.round(j, arredondamento)\n",
        "\n",
        "    det = np.round(det * A[n-1][n-1], arredondamento)\n",
        "\n",
        "    if info == 0 and abs(A[n-1][n-1]) == 0:\n",
        "        info = np.round(n, arredondamento)\n",
        "\n",
        "    # print dos parâmetros de saída\n",
        "    print(f'\\nA = \\n{np.round(A, arredondamento)}\\n')\n",
        "    print(f'b = {np.round(b, arredondamento)}\\n')\n",
        "    print(f'Det = {np.round(det, arredondamento)} \\t Info = {np.round(info, arredondamento)}\\n')\n",
        "\n",
        "    # Retorna a solução do sistema usando a função solve do NumPy\n",
        "    return np.round(np.linalg.solve(A, b), arredondamento)\n"
      ],
      "metadata": {
        "id": "AosmhhlPLV_V"
      },
      "execution_count": 2,
      "outputs": []
    },
    {
      "cell_type": "code",
      "source": [
        "def fatoracaoLU(m, n, A, b, arredondamento=100):\n",
        "    print('\\n=== FATORAÇÃO LU ===')\n",
        "    Pivot = np.arange(1, n + 1)   # Inicializa variáveis\n",
        "    PdU = 1\n",
        "    info = 0\n",
        "\n",
        "    # Verificar se matriz é quadrada e verifica número de termos\n",
        "    if m != n or len(A) != len(b):\n",
        "        return \"ERRO dimensões NÃO são consistentes\"\n",
        "\n",
        "    # verifica se a matriz é não singular: det(Ak) != 0 para k = 1, 2, 3, ..., n − 1\n",
        "    for k in range(0, n+1):\n",
        "        if np.linalg.det(A[:k, :k]) == 0:\n",
        "            return \"ERRO: A matriz não é singular\"\n",
        "\n",
        "    for j in range(0, min(m, n)):\n",
        "        p = j\n",
        "        Amax = np.round(abs(A[j][j]), arredondamento)\n",
        "\n",
        "        # Escolha do pivô\n",
        "        for k in range(j + 1, m):\n",
        "            if abs(A[k][j]) > Amax:\n",
        "                Amax = abs(A[k][j])\n",
        "                p = k\n",
        "\n",
        "        if Amax == 0:\n",
        "            return \"ERRO: Pivô nulo encontrado.\"\n",
        "\n",
        "        if p != j:\n",
        "            for k in range(n):\n",
        "                t = A[j][k]\n",
        "                A[j][k] = A[p][k]\n",
        "                A[p][k] = t\n",
        "\n",
        "            # Troca de linhas\n",
        "            temp = A[j].copy()\n",
        "            A[j] = A[p]\n",
        "            A[p] = temp\n",
        "\n",
        "            i = Pivot[j]\n",
        "            Pivot[j] = Pivot[p]\n",
        "            Pivot[p] = i\n",
        "            PdU = -PdU\n",
        "\n",
        "        PdU = np.round(PdU * A[j][j], arredondamento)\n",
        "\n",
        "        if abs(A[j][j]) != 0:\n",
        "            r = np.round(1 / A[j][j], arredondamento)\n",
        "\n",
        "            for i in range(j + 1, m):\n",
        "                mult = np.round(A[i][j] * r, arredondamento)\n",
        "                A[i][j] = mult\n",
        "\n",
        "                for k in range(j + 1, n):\n",
        "                    A[i][k] = np.round(A[i][k] - mult * A[j][k], arredondamento)\n",
        "        else:\n",
        "            if info == 0:\n",
        "                info = j\n",
        "\n",
        "    # Resolvendo o sistema Ax = b usando a fatoração LU\n",
        "    L = np.tril(A, k=-1) + np.eye(m, n) # Matriz triangular inferior L\n",
        "    U = np.triu(A)                      # Matriz triangular superior U\n",
        "\n",
        "    y = np.round(np.linalg.solve(L, b), arredondamento)           # Resolvendo Ly = b\n",
        "    x = np.round(np.linalg.solve(U, y), arredondamento)           # Resolvendo Ux = y\n",
        "\n",
        "    # print dos parâmetros de saída\n",
        "    print(f'\\nA = \\n{np.round(A, arredondamento)}\\n')\n",
        "    print(f'Pivot = {np.round(Pivot, arredondamento)} \\t PdU = {np.round(PdU, arredondamento)} \\t Info = {np.round(info, arredondamento)}\\n')\n",
        "\n",
        "    return np.round(np.around(x,arredondamento))"
      ],
      "metadata": {
        "id": "sbvI9MCaXzVK"
      },
      "execution_count": 3,
      "outputs": []
    },
    {
      "cell_type": "code",
      "source": [
        "def fatoracaoCholesky(n, A, b, arredondamento=100):\n",
        "    print('\\n=== ELIMINAÇÃO DE CHOLESKY ===')\n",
        "    det = 1.0\n",
        "    info = 0.0\n",
        "\n",
        "    # Verifica se a matriz é quadrada e verifica número de termos\n",
        "    if len(A) != len(A[0]):\n",
        "        return \"ERRO dimensões NÃO são consistentes\"\n",
        "\n",
        "    # verifica se a matriz é simétrica: a[i][j] = a[j][i], para i,j=1 , …,n\n",
        "    if not np.array_equal(A, np.transpose(A)):\n",
        "        return \"ERRO: A matriz não é simétrica\"\n",
        "\n",
        "    # verifica se a matriz é positiva definida: todos os menores principais tem determinante positivo\n",
        "    for k in range(0, n):\n",
        "        if np.linalg.det(A[:k, :k]) <= 0:\n",
        "            return \"ERRO: A matriz não é positiva definida\"\n",
        "\n",
        "    for j in range(0, n):\n",
        "        Soma = 0\n",
        "\n",
        "        for k in range(0, j):\n",
        "            Soma = np.round(Soma + A[j][k] * A[j][k], arredondamento)\n",
        "        t = np.round(A[j][j] - Soma, arredondamento)\n",
        "\n",
        "        if t > 0:\n",
        "            A[j][j] = np.round(math.sqrt(t), arredondamento)\n",
        "            r = np.round(1 / A[j][j], arredondamento)\n",
        "            det = np.round(det * t, arredondamento)\n",
        "        else:\n",
        "            info = j\n",
        "            return('Matriz não é definida como positiva')\n",
        "\n",
        "        for i in range(j+1, n):\n",
        "            Soma = 0\n",
        "\n",
        "            for k in range(0, j):\n",
        "                Soma = np.round(Soma + A[i][k] * A[j][k], arredondamento)\n",
        "\n",
        "            A[i][j] = np.round((A[i][j] - Soma) * r, arredondamento)\n",
        "\n",
        "    G = np.tril(A)                      # Matriz triangular superior G\n",
        "    GT = np.transpose(G)                # Matriz transposta de G\n",
        "\n",
        "    y = np.round(np.linalg.solve(G, b), arredondamento)   # Resolvendo G . y = b\n",
        "    x = np.round(np.linalg.solve(GT, y), arredondamento)  # Resolvendo G^t . x = y\n",
        "\n",
        "    # print dos parâmetros de saída\n",
        "    print(f'\\nA = \\n{np.round(A, arredondamento)}\\n')\n",
        "    print(f'Det = {np.round(det, arredondamento)}\\n')\n",
        "    print(f'Info = {np.round(info, arredondamento)}\\n')\n",
        "\n",
        "    return x"
      ],
      "metadata": {
        "id": "BK26ZAZOLA97"
      },
      "execution_count": 4,
      "outputs": []
    },
    {
      "cell_type": "code",
      "source": [
        "def gaussJacobi(n, A, b, toler, iterMax, arredondamento=100):\n",
        "    print('\\n=== GAUSS JACOBI ===')\n",
        "    atendeu = testaCriterioConvergencia(A, False, arredondamento)\n",
        "    if max(atendeu) == 0:\n",
        "        return 'ERRO: Não é possivel aplicar o método'\n",
        "\n",
        "    x = []\n",
        "    for i in range(0, n):     # valor inicial de x\n",
        "        x.append(np.round(b[i] / A[i][i], arredondamento))\n",
        "    iter = 0\n",
        "\n",
        "    while True:   # iterações de Jacob\n",
        "        v = []\n",
        "        iter = iter + 1\n",
        "        for i in range(0, n):\n",
        "            soma = 0\n",
        "            for j in range(0, n):\n",
        "                if i != j:\n",
        "                    soma = np.round(soma + A[i][j] * x[j], arredondamento)\n",
        "            v.append(np.round((b[i] - soma) / A[i][i], arredondamento))\n",
        "        normaNum = 0.0\n",
        "        normaDen = 0.0\n",
        "\n",
        "        for i in range(0, n):\n",
        "            t = np.round(abs(v[i] - x[i]), arredondamento)\n",
        "            if t > normaNum:\n",
        "                normaNum = t\n",
        "            if abs(v[i]) > normaDen:\n",
        "                normaDen = np.round(abs(v[i]), arredondamento)\n",
        "            x[i] = np.round(v[i], arredondamento)\n",
        "\n",
        "        normaRel = np.round(normaNum / normaDen, arredondamento)\n",
        "        print(f'iter: {iter},\\t x: {x},\\t\\t normaRel: {normaRel}')\n",
        "\n",
        "        if normaRel <= toler or iter >= iterMax:     # teste de convergência\n",
        "            break\n",
        "    if normaRel <= toler:\n",
        "        info = 0\n",
        "    else:\n",
        "        info = 1\n",
        "\n",
        "    # print dos parâmetros de saída\n",
        "    print(f'\\nIter = {np.round(iter, arredondamento)} \\t Info = {np.round(info, arredondamento)}\\n')\n",
        "\n",
        "    return np.round(x, arredondamento)\n"
      ],
      "metadata": {
        "id": "3qZHmTuwWWRt"
      },
      "execution_count": 5,
      "outputs": []
    },
    {
      "cell_type": "code",
      "source": [
        "def gaussSeidel(n, A, b, toler, iterMax, arredondamento=100):\n",
        "    print('\\n=== GAUSS SEIDEL ===')\n",
        "    atendeu = testaCriterioConvergencia(A, True, arredondamento)\n",
        "    if max(atendeu) == 0:\n",
        "        return 'ERRO: Não é possivel aplicar o método'\n",
        "\n",
        "    x = []\n",
        "    for i in range(0, n):     # valor inicial de x\n",
        "        x.append(np.round(b[i] / A[i][i], arredondamento))\n",
        "\n",
        "    iter = 0\n",
        "\n",
        "    while True:   # iterações de Gauss-Seidel\n",
        "        iter = iter + 1\n",
        "        normaNum = 0.0\n",
        "        normaDen = 0.0\n",
        "        v = []\n",
        "        for i in range(0, n):\n",
        "            soma = 0\n",
        "            for j in range(0, n):\n",
        "                if i != j:\n",
        "                    soma = np.round(soma + A[i][j] * x[j], arredondamento)\n",
        "            v.append(np.round(x[i], arredondamento))\n",
        "            x[i] = np.round((b[i] - soma) / A[i][i], arredondamento)\n",
        "            t = np.round(abs(v[i] - x[i]), arredondamento)\n",
        "\n",
        "            if t > normaNum:\n",
        "                normaNum = t\n",
        "\n",
        "            if abs(x[i]) > normaDen:\n",
        "                normaDen = np.round(abs(x[i]), arredondamento)\n",
        "\n",
        "        normaRel = np.round(normaNum / normaDen, arredondamento)\n",
        "        print(f'iter: {iter},\\t x: {x},\\t\\t normaRel: {normaRel}')\n",
        "\n",
        "        if normaRel <= toler or iter >= iterMax:     # teste de convergência\n",
        "            break\n",
        "    if normaRel <= toler:\n",
        "        info = 0\n",
        "    else:\n",
        "        info = 1\n",
        "\n",
        "    # print dos parâmetros de saída\n",
        "    print(f'\\nIter = {np.round(iter, arredondamento)} \\t Info = {np.round(info, arredondamento)}\\n')\n",
        "\n",
        "    return np.round(x, arredondamento)"
      ],
      "metadata": {
        "id": "0abeId8FM0mF"
      },
      "execution_count": 6,
      "outputs": []
    },
    {
      "cell_type": "code",
      "source": [
        "def pivotamentoParcial(p, j, Amax, det, A, b, n, arredondamento): # Escolha do pivô (elemento máximo na coluna atual)\n",
        "    for k in range(j+1, n):\n",
        "        if abs(A[k][j]) > Amax:\n",
        "            Amax = np.round(abs(A[k][j]), arredondamento)\n",
        "            p = np.round(k, arredondamento)\n",
        "\n",
        "    if Amax == 0:\n",
        "        return \"ERRO: Pivô nulo encontrado.\"\n",
        "\n",
        "    # Troca de linha se necessário\n",
        "    if p != j:\n",
        "        for k in range(0, n):\n",
        "            t = np.round(A[j][k], arredondamento)\n",
        "            A[j][k] = np.round(A[p][k], arredondamento)\n",
        "            A[p][k] = np.round(t, arredondamento)\n",
        "        t = np.round(b[j], arredondamento)\n",
        "        b[j] = np.round(b[p], arredondamento)\n",
        "        b[p] = np.round(t, arredondamento)\n",
        "        det = np.round(- det, arredondamento)\n",
        "\n",
        "    return np.round(p, arredondamento), np.round(Amax, arredondamento), np.round(det, arredondamento), np.round(A, arredondamento), np.round(b, arredondamento)"
      ],
      "metadata": {
        "id": "Kr9mzgyTYQWF"
      },
      "execution_count": 7,
      "outputs": []
    },
    {
      "cell_type": "code",
      "source": [
        "def testaCriterioConvergencia(A, testarSassenfield, arredondamento=100):\n",
        "    atendeu = [0,0,0]\n",
        "    print('Verificações dos critérios de convergência: ')\n",
        "    atendeu[0] = raioEspectral(A)\n",
        "    atendeu[1] = diagonalmenteDominante(A, arredondamento)\n",
        "    if testarSassenfield == True:\n",
        "        atendeu[2] = sassenfield(A, arredondamento)\n",
        "    print('\\n')\n",
        "    return atendeu\n",
        "\n",
        "def raioEspectral(A):\n",
        "    autovalores, autovetores = np.linalg.eig(A)\n",
        "\n",
        "    if abs(max(autovalores, key=float)) > 1:\n",
        "        print(' - Não atende ao critério do Raio Espectral')\n",
        "        return 0\n",
        "    else:\n",
        "        print(' - Atende critério do Raio Espectral')\n",
        "        return 1\n",
        "\n",
        "def diagonalmenteDominante(A, arredondamento=100):\n",
        "    naoConvergiu_LINHAS = 0\n",
        "    naoConvergiu_COLUNAS = 0\n",
        "\n",
        "    # critério LINHAS\n",
        "    for i in range(0, len(A)):\n",
        "        somaColuna = 0\n",
        "        for j in range(0, len(A[i])):\n",
        "            if i != j:\n",
        "                somaColuna += np.round(A[i][j], arredondamento)\n",
        "        if A[i][i] <= somaColuna:\n",
        "            naoConvergiu_COLUNAS = 1\n",
        "\n",
        "    # critério COLUNAS\n",
        "    for i in range(0, len(A)):\n",
        "        somaLinha = 0\n",
        "        for j in range(0, len(A[i])):\n",
        "            if i != j:\n",
        "                somaLinha += np.round(A[j][i], arredondamento)\n",
        "        if A[i][i] <= somaLinha:\n",
        "            naoConvergiu_LINHAS = 1\n",
        "\n",
        "    if naoConvergiu_LINHAS == 1 and naoConvergiu_COLUNAS == 1:\n",
        "        print(\" - A matriz NÃO é Diagonalmente Dominante (não atende críterio das linhas nem das colunas)\")\n",
        "        return 0\n",
        "    elif naoConvergiu_LINHAS == 1:\n",
        "        print(\" - Atende o critério das colunas\")\n",
        "        return 1\n",
        "    elif naoConvergiu_COLUNAS == 1:\n",
        "        print(\" - Atende o critério das linhas\")\n",
        "        return 1\n",
        "    else:\n",
        "        print(\" - Atende o critério das linhas e colunas\")\n",
        "        return 1\n",
        "\n",
        "def sassenfield(A, arredondamento=100):\n",
        "    b = []\n",
        "\n",
        "    for i in range(0, len(A)):\n",
        "        somaColuna = 0\n",
        "        for j in range(0, len(A[i])):\n",
        "            if (i != j and i == 0) or i < j:\n",
        "                somaColuna += np.round(A[i][j], arredondamento)\n",
        "            elif i != j and i != 0:\n",
        "                somaColuna += np.round(A[i][j] * b[j], arredondamento)\n",
        "\n",
        "        somaColuna = np.round(somaColuna / A[i][i], arredondamento)\n",
        "        b.append(somaColuna)\n",
        "\n",
        "    if max(b) > 1:\n",
        "        print(\" - A matriz NÃO antende ao critério de sassenfield\")\n",
        "        return 0\n",
        "    else:\n",
        "        print(\" - Atendeu ao critério de sassenfield\")\n",
        "        return 1"
      ],
      "metadata": {
        "id": "whD9JHMKW78c"
      },
      "execution_count": 8,
      "outputs": []
    },
    {
      "cell_type": "markdown",
      "source": [
        "##Questões"
      ],
      "metadata": {
        "id": "UHPWoh8MRxfg"
      }
    },
    {
      "cell_type": "markdown",
      "source": [
        "###Questão 1\n",
        "**Considere os seguintes sistemas:**\n",
        "\\begin{equation}\n",
        "\\begin{cases}\n",
        "    0.03x_1 + 58.9x_2 &= 59.2 \\\\\n",
        "    5.31x_1 - 6.10x_2 &= 47.0 \\\\\n",
        "\\end{cases}\n",
        "\\end{equation}\n",
        "\n",
        "\\begin{equation}\n",
        "\\begin{cases}\n",
        "    3.03x_1 - 12.1x_2 + 14x_3 &= -119 \\\\\n",
        "    -3.03x_1 + 12.1x_2 - 7x_3 &= 120 \\\\\n",
        "    6.11x_1 - 14.2x_2 + 21x_3 &= -139 \\\\\n",
        "\\end{cases}\n",
        "\\end{equation}\n",
        "\n",
        "**a) Resolva os sistemas acima usando o Métodos Direto de Eliminação de Gauss com Pivotamento e operações aritméticas com aproximação de três dígitos por\n",
        "arredondamento.**\n"
      ],
      "metadata": {
        "id": "ylzYPfvoR354"
      }
    },
    {
      "cell_type": "markdown",
      "source": [
        "O procedimento inicial para abordar essa questão consiste em criar a matriz \"A\" e o vetor \"b\" para representar o problema. Posteriormente, o método da Eliminação de Gauss é aplicado para os dois sistemas.\n",
        "\n",
        "O método que elaborei requer como parâmetros a ordem da matriz, a matriz \"A\" dos coeficientes e o vetor \"b\" dos termos independentes. O método permite especificar o arredondamento e desativar o pivotamento parcial, de acordo com suas preferências.\n",
        "\n",
        "É importante ressaltar que o arredondamento é aplicado em cada uma das operações realizadas. O valor padrão, caso nenhum argumento seja fornecido para o arredondamento, é \"100\" (o que representa várias casas decimais para indicar que o número não está sendo arredondado). Neste caso executaremos a função com um arredondamento de três casas decimais e com pivotamento parcial.\n",
        "\n"
      ],
      "metadata": {
        "id": "qohWFQdgqk_X"
      }
    },
    {
      "cell_type": "code",
      "source": [
        "#Sistema 1\n",
        "A1 = np.array([[0.03, 58.9],\n",
        "              [5.31, -6.10]])\n",
        "b1 = np.array([59.2, 47.0])\n",
        "\n",
        "#Sistema 2\n",
        "A2 = np.array([[3.03, -12.1, 14.0],\n",
        "              [-3.03, 12.1, -7.0],\n",
        "              [6.11, -14.2, 21.0]], dtype=float)\n",
        "b2 = np.array([-119.0, 120.0, -139.0], dtype=float)\n",
        "\n",
        "print(f'--> RESULTADO: {eliminacaoGauss(2, A1, b1, 3, True)}\\n')\n",
        "print(f'--> RESULTADO: {eliminacaoGauss(3, A2, b2, 3, True)}')"
      ],
      "metadata": {
        "colab": {
          "base_uri": "https://localhost:8080/"
        },
        "id": "moajqok_qMqr",
        "outputId": "c9e6df1f-ea5a-47dc-f48a-e918e858074e"
      },
      "execution_count": 9,
      "outputs": [
        {
          "output_type": "stream",
          "name": "stdout",
          "text": [
            "\n",
            "=== ELIMINAÇÃO DE GAUSS ===\n",
            "\n",
            "A = \n",
            "[[ 5.31  -6.1  ]\n",
            " [ 0.    58.937]]\n",
            "\n",
            "b = [47.    58.918]\n",
            "\n",
            "Det = -312.955 \t Info = 0.0\n",
            "\n",
            "--> RESULTADO: [10.  1.]\n",
            "\n",
            "\n",
            "=== ELIMINAÇÃO DE GAUSS ===\n",
            "\n",
            "A = \n",
            "[[  6.11  -14.2    21.   ]\n",
            " [  0.      5.043   3.437]\n",
            " [  0.      0.      6.997]]\n",
            "\n",
            "b = [-139.      50.917    0.949]\n",
            "\n",
            "Det = -215.599 \t Info = 0.0\n",
            "\n",
            "--> RESULTADO: [ 0.034 10.004  0.136]\n"
          ]
        }
      ]
    },
    {
      "cell_type": "markdown",
      "source": [
        "Como é possível perceber, o método de eliminação de Gauss produziu soluções para ambos os sistemas em questão. No caso do Sistema 1, os valores encontrados foram x1=10 e x2=1. Quanto ao Sistema 2, os resultados foram os seguintes: x1=0.034, x2=10.004 e x3=0.136."
      ],
      "metadata": {
        "id": "4YQP1WP-v5fD"
      }
    },
    {
      "cell_type": "markdown",
      "source": [
        "\n",
        "**b) Verifique se os sistemas acima são convergente se aplicarmos os Métodos Iterativos\n",
        "de Gauss-Jacobi e Gauss-Seidel. Justifique sua resposta.**"
      ],
      "metadata": {
        "id": "2x2qhSc9vtBb"
      }
    },
    {
      "cell_type": "markdown",
      "source": [
        "Em relação às considerações de convergência, foram implementadas três funções para avaliar cada um dos critérios: verificação do raio espectral, verificação se a matriz é diagonalmente dominante (tanto pelo critério das linhas quanto pelo critério das colunas) e, no caso do Gauss-Seidel, a aplicação do critério de Sassenfield.\n",
        "\n",
        "Se algum desses critérios for atendido, o método continua a execução normalmente. Caso contrário, a execução é interrompida, uma vez que o cálculo não pode ser realizado.\n",
        "\n",
        "A seguir, são realizadas quatro execuções: duas para o primeiro sistema (uma utilizando Gauss-Jacobi e outra Gauss-Seidel) e mais duas execuções para o segundo sistema. Como a precisão e o número máximo de iterações não foram especificados, defini valores padrão de 0.0001 e 100, respectivamente."
      ],
      "metadata": {
        "id": "4POF_wUexBKV"
      }
    },
    {
      "cell_type": "code",
      "source": [
        "print(f'--> RESULTADO: {gaussJacobi(2, A1, b1, 0.0001, 100, 3)}\\n\\n')\n",
        "print(f'-->RESULTADO: {gaussSeidel(2, A1, b1, 0.0001, 100, 3)}')\n",
        "\n",
        "print(f'--> RESULTADO: {gaussJacobi(3, A2, b2, 0.0001, 100, 3)}\\n\\n')\n",
        "print(f'-->RESULTADO: {gaussSeidel(3, A2, b2, 0.0001, 100, 3)}')"
      ],
      "metadata": {
        "colab": {
          "base_uri": "https://localhost:8080/"
        },
        "id": "s0ODzZq7xNEx",
        "outputId": "4d5810e8-5364-4434-c420-82b4907faa90"
      },
      "execution_count": 10,
      "outputs": [
        {
          "output_type": "stream",
          "name": "stdout",
          "text": [
            "\n",
            "=== GAUSS JACOBI ===\n",
            "Verificações dos critérios de convergência: \n",
            " - Não atende ao critério do Raio Espectral\n",
            " - Atende o critério das linhas e colunas\n",
            "\n",
            "\n",
            "iter: 1,\t x: [10.006, 1.001],\t\t normaRel: 0.115\n",
            "iter: 2,\t x: [10.001, 1.0],\t\t normaRel: 0.0\n",
            "\n",
            "Iter = 2 \t Info = 0\n",
            "\n",
            "--> RESULTADO: [10.001  1.   ]\n",
            "\n",
            "\n",
            "\n",
            "=== GAUSS SEIDEL ===\n",
            "Verificações dos critérios de convergência: \n",
            " - Não atende ao critério do Raio Espectral\n",
            " - Atende o critério das linhas e colunas\n",
            " - Atendeu ao critério de sassenfield\n",
            "\n",
            "\n",
            "iter: 1,\t x: [10.006, 1.0],\t\t normaRel: 0.115\n",
            "iter: 2,\t x: [10.0, 1.0],\t\t normaRel: 0.001\n",
            "iter: 3,\t x: [10.0, 1.0],\t\t normaRel: 0.0\n",
            "\n",
            "Iter = 3 \t Info = 0\n",
            "\n",
            "-->RESULTADO: [10.  1.]\n",
            "\n",
            "=== GAUSS JACOBI ===\n",
            "Verificações dos critérios de convergência: \n",
            " - Não atende ao critério do Raio Espectral\n",
            " - A matriz NÃO é Diagonalmente Dominante (não atende críterio das linhas nem das colunas)\n",
            "\n",
            "\n",
            "--> RESULTADO: ERRO: Não é possivel aplicar o método\n",
            "\n",
            "\n",
            "\n",
            "=== GAUSS SEIDEL ===\n",
            "Verificações dos critérios de convergência: \n",
            " - Não atende ao critério do Raio Espectral\n",
            " - A matriz NÃO é Diagonalmente Dominante (não atende críterio das linhas nem das colunas)\n",
            " - A matriz NÃO antende ao critério de sassenfield\n",
            "\n",
            "\n",
            "-->RESULTADO: ERRO: Não é possivel aplicar o método\n"
          ]
        },
        {
          "output_type": "stream",
          "name": "stderr",
          "text": [
            "<ipython-input-8-d5ae09f4d506>:14: ComplexWarning: Casting complex values to real discards the imaginary part\n",
            "  if abs(max(autovalores, key=float)) > 1:\n"
          ]
        }
      ]
    },
    {
      "cell_type": "markdown",
      "source": [
        "Como é possível analizar para o primeiro sistema gauss jacobi e gauss seidel conseguiram encontrar o resultado (os mesmos valores encontrados pela eliminação de gauss). No segundo sistema nenhum dos métodos conseguiu encontrar os resultados, visto que não atenderam nenhum dos critérios de convergência.\n",
        "\n",
        "Os resultados obitidos evidenciam a questão que embora os método interativos serem frequentemente mais eficientes para resolver sistemas nem sempre conseguem ser aplicados. A Eliminação de Gauss sempre consegue encontrar um resultado porque é um método direto para resolver sistemas e não possui as mesmas restrições de convergência que os métodos iterativos, como Gauss-Jacobi e Gauss-Seidel."
      ],
      "metadata": {
        "id": "M4cIj6LuE0Da"
      }
    },
    {
      "cell_type": "markdown",
      "source": [
        "###Questão 2\n",
        "**Uma indústria produz 4 tipo de produtos (1), (2), (3) e (4), os quais são processados e produzidos no decorrer da semana. Para produção de cada unidade desses produtos necessita-se de 4 diferentes tipos de matéria-prima (A), (B), (C) e (D), conforme tabela dada:**\n",
        "\\begin{array}{c|cccc}\n",
        "    & (A) & (B) & (C) & (D) \\\\\n",
        "    \\hline\n",
        "    (1) & 1 & 2 & 4 & 1 \\\\\n",
        "    (2) & 2 & 0 & 1 & 0 \\\\\n",
        "    (3) & 4 & 2 & 3 & 1 \\\\\n",
        "    (4) & 3 & 1 & 2 & 1 \\\\\n",
        "\\end{array}\n",
        "\n",
        "**Por exemplo, para produzir uma unidade de (1) precisa-se de 1 unidade de A, 2 unidades de (B), 4 unidades de (C) e 1 unidade de (D).**\n",
        "**A indústria possui disponível em estoque 16, 13, 27 e 7 unidades de (A), (B), (C) e (D), respectivamente. Quantas unidades de cada produto podem ser produzidas?**\n",
        "**Formule um modelo matemático, resolva-o usando o Método Direto de Fatoração LU e analise os resultados obtidos.**"
      ],
      "metadata": {
        "id": "lFinJWODTuCa"
      }
    },
    {
      "cell_type": "markdown",
      "source": [
        "Estruturando primeiramente os dados fonecidos no exercício:\n",
        "- total disponível para cada produto: A = 16, B = 13, C = 27 e D = 7, estes valores representam o vetor de termos idependetes\n",
        "- vou chamar o produto (1) de x1 , produto (2) de x2, produto (3) de x3 e produto (4) de x4\n",
        "- colocando o sistema em relação a materia prima temos o seguinte:\n",
        "\\begin{equation}\n",
        "\\begin{cases}\n",
        "    1x_1 + 2x_2 + 4x_3 + 3x_3 &= 16 \\\\\n",
        "    2x_1 + 0x_2 + 2x_3 + 1x_3 &= 13 \\\\\n",
        "    4x_1 + 1x_2 + 3x_3 + 2x_3 &= 27 \\\\\n",
        "    1x_1 + 0x_2 + 1x_3 + 1x_3 &= 7 \\\\\n",
        "\\end{cases}\n",
        "\\end{equation}\n",
        "\n",
        "Assim, com este novo sistema podemos montar a matriz e executar o método da fatoração LU"
      ],
      "metadata": {
        "id": "57OqMScE2xyI"
      }
    },
    {
      "cell_type": "code",
      "source": [
        "A3 = np.array([[1, 2, 4, 3],\n",
        "              [2, 0, 2, 1],\n",
        "              [4, 1, 3, 2],\n",
        "              [1, 0, 1, 1]], dtype=float)\n",
        "b3 = np.array([16, 13, 27, 7], dtype=float)\n",
        "\n",
        "print(f'--> RESULTADO: {fatoracaoLU(4, 4, A3, b3)}\\n\\n')"
      ],
      "metadata": {
        "id": "c60vcrctr9uE",
        "colab": {
          "base_uri": "https://localhost:8080/"
        },
        "outputId": "f6056b95-770b-4a4c-8139-ecf862405150"
      },
      "execution_count": 11,
      "outputs": [
        {
          "output_type": "stream",
          "name": "stdout",
          "text": [
            "\n",
            "=== FATORAÇÃO LU ===\n",
            "\n",
            "A = \n",
            "[[ 1.    2.    4.    3.  ]\n",
            " [ 2.   -4.   -6.   -5.  ]\n",
            " [ 4.    1.75 -2.5  -1.25]\n",
            " [ 1.    0.5  -0.    0.5 ]]\n",
            "\n",
            "Pivot = [3 1 2 4] \t PdU = 5.0 \t Info = 0\n",
            "\n",
            "--> RESULTADO: [5. 2. 1. 1.]\n",
            "\n",
            "\n"
          ]
        }
      ]
    },
    {
      "cell_type": "markdown",
      "source": [
        "O algoritmo de Fatoração LU foi executado com sucesso para resolver o sistema linear associado à produção dos produtos (1), (2), (3) e (4), levando em consideração as restrições de disponibilidade das matérias-primas (A, B, C, D). Os resultados obtidos indicam que a indústria pode produzir as seguintes quantidades de cada produto: 5 unidades do produto (1), 2 unidades do produto (2), 1 unidade do produto (3) e 1 unidade do produto (4).\n",
        "\n",
        "Essas são as quantidades de produção que atendem às restrições de disponibilidade das matérias-primas e aos requisitos de produção de cada produto."
      ],
      "metadata": {
        "id": "ZUsIUFJrOvfj"
      }
    },
    {
      "cell_type": "markdown",
      "source": [
        "###Questão 3\n",
        "**Considere o sistema:**\n",
        "\\begin{equation}\n",
        "\\begin{cases}\n",
        "    1x_1 + x_2 + 3x_3 &= -2 \\\\\n",
        "    \\alpha x_1 + x_2 + 4x_3 &= -3 \\\\\n",
        "    5x_1 + 2x_2 + 1x_3 &= 4 \\\\\n",
        "\\end{cases}\n",
        "\\end{equation}\n",
        "\n",
        "**Para os valores de α:**\n",
        "\n",
        "**a) A matriz A pode ser decomposta em L.U? Justifique.**"
      ],
      "metadata": {
        "id": "iRExmQGxUlzn"
      }
    },
    {
      "cell_type": "markdown",
      "source": [
        "Antes de abordarmos essa questão, é crucial compreender as condições essenciais para que uma matriz seja decomposta em L.U.. A principal restrição é que a matriz deve ser não singular, ou seja, seu determinante deve ser diferente de zero (det(Ak) != 0 para k = 1, 2, 3, ..., n − 1).\n",
        "\n",
        "Assim, para avaliar essa condição, é necessário calcular o determinante da matriz. Para esta tarefa, utilizei uma biblioteca sympy do Python que possibilita o uso de incógnitas.\n"
      ],
      "metadata": {
        "id": "zPJ__KDBTDM8"
      }
    },
    {
      "cell_type": "code",
      "source": [
        "alpha = sp.symbols('alpha')\n",
        "A4 = sp.Matrix([[1, 1, 3],\n",
        "              [alpha, 1, 4],\n",
        "              [5, 2, 1]], dtype=float)\n",
        "determinante = A4.det()\n",
        "print(f\"Determinante: {determinante}\")"
      ],
      "metadata": {
        "colab": {
          "base_uri": "https://localhost:8080/"
        },
        "id": "AdYGX782YCya",
        "outputId": "437cdec9-80ef-4992-dea0-fcf879cd14ad"
      },
      "execution_count": 12,
      "outputs": [
        {
          "output_type": "stream",
          "name": "stdout",
          "text": [
            "Determinante: 5*alpha - 2\n"
          ]
        }
      ]
    },
    {
      "cell_type": "markdown",
      "source": [
        "Observando o resultado do determinante, fica evidente que a resposta para a pergunta é: depende! Isso ocorre porque o valor atribuído a α pode influenciar o determinante, podendo levá-lo a zero, o que implicaria na impossibilidade de aplicar o método. No entanto, se o valor de α resultar em um determinante diferente de zero, então é possível proceder com a resolução por meio da decomposição L.U..\n",
        "\n",
        "Para determinar qual é esse valor crítico, podemos igualar a equação do determinante a zero e resolver:"
      ],
      "metadata": {
        "id": "VP0XGoSRaMHW"
      }
    },
    {
      "cell_type": "code",
      "source": [
        "print(f\"Alfa = {sp.solve(sp.Eq(determinante, 0), alpha)}\")"
      ],
      "metadata": {
        "colab": {
          "base_uri": "https://localhost:8080/"
        },
        "id": "S343g0GXar35",
        "outputId": "63faec47-8615-4d10-f432-24b74a3ee344"
      },
      "execution_count": 13,
      "outputs": [
        {
          "output_type": "stream",
          "name": "stdout",
          "text": [
            "Alfa = [2/5]\n"
          ]
        }
      ]
    },
    {
      "cell_type": "markdown",
      "source": [
        "O valor 2/5 é identificado como um ponto em que o determinante se anula. Portanto, realizaremos um teste comparativo utilizando α=2/5 e, em contrapartida, α=2. Executaremos o método de decomposição LU em ambos os casos para avaliar os resultados obtidos."
      ],
      "metadata": {
        "id": "Ma4jvXjEbCAs"
      }
    },
    {
      "cell_type": "code",
      "source": [
        "A5 = np.array([[1, 1, 3],\n",
        "               [2/5, 1, 4],\n",
        "               [5, 2, 1]], dtype=float)\n",
        "b5 = np.array([-2, -3, 4], dtype=float)\n",
        "print(fatoracaoLU(3, 3, A5, b5))\n",
        "\n",
        "A6 = np.array([[1, 1, 3],\n",
        "               [2, 1, 4],\n",
        "               [5, 2, 1]], dtype=float)\n",
        "b6 = np.array([-2, -3, 4], dtype=float)\n",
        "print(fatoracaoLU(3, 3, A6, b6))"
      ],
      "metadata": {
        "colab": {
          "base_uri": "https://localhost:8080/"
        },
        "id": "ut695-jIU-2G",
        "outputId": "7fd359a8-2bc6-4de6-833b-4947c18e7f67"
      },
      "execution_count": 14,
      "outputs": [
        {
          "output_type": "stream",
          "name": "stdout",
          "text": [
            "\n",
            "=== FATORAÇÃO LU ===\n",
            "ERRO: A matriz não é singular\n",
            "\n",
            "=== FATORAÇÃO LU ===\n",
            "\n",
            "A = \n",
            "[[ 1.  1.  3.]\n",
            " [ 2. -1. -2.]\n",
            " [ 5.  3. -8.]]\n",
            "\n",
            "Pivot = [3 1 2] \t PdU = 8.0 \t Info = 0\n",
            "\n",
            "[ 0.  2. -1.]\n"
          ]
        }
      ]
    },
    {
      "cell_type": "markdown",
      "source": [
        "Ao empregar dois valores distintos para α, observamos um cenário no qual a fatoração LU não é aplicável e outro no qual o método foi bem-sucedido. Portanto, sem valores específicos para α, não podemos determinar exatamente quais valores garantiriam que a matriz A seja não-singular."
      ],
      "metadata": {
        "id": "utkH6024XNrN"
      }
    },
    {
      "cell_type": "markdown",
      "source": [
        "**b) O sistema pode ser resolvido por Fatoração Cholesky? Justifique.**"
      ],
      "metadata": {
        "id": "qo5G7iPIhLFE"
      }
    },
    {
      "cell_type": "markdown",
      "source": [
        "Assim como foi feito na questão anterior podemos analizar quais são as condições para aplicar a fatoração de Cholesky:\n",
        "- A matriz é simétrica: a[i][j] = a[j][i], para i,j=1 , …,n\n",
        "- A matriz é positiva definida: todos os menores principais tem determinante positivo\n",
        "\n",
        "Podemos verificar que a primeira condição não é atendida, uma vez que ela não é simétrica. Por exemplo, A[0][2] != A[2][0], pois 3 != 5. Então idependente do valor de α aplicado não vai ser possível aplicar a fatoração de cholesky.\n",
        "\n",
        "Podemos testar isso executando o método para α = 2."
      ],
      "metadata": {
        "id": "RPZdxk3mhRYB"
      }
    },
    {
      "cell_type": "code",
      "source": [
        "print(fatoracaoCholesky(3, A6, b6))"
      ],
      "metadata": {
        "id": "TiRJikCzspLf",
        "colab": {
          "base_uri": "https://localhost:8080/"
        },
        "outputId": "6fa24480-052b-4f0e-9ef4-420e0f8717d6"
      },
      "execution_count": 15,
      "outputs": [
        {
          "output_type": "stream",
          "name": "stdout",
          "text": [
            "\n",
            "=== ELIMINAÇÃO DE CHOLESKY ===\n",
            "ERRO: A matriz não é simétrica\n"
          ]
        }
      ]
    },
    {
      "cell_type": "markdown",
      "source": [
        "Como a matriz fornecida não é simétrica, a Fatoração de Cholesky não pode ser justificada para resolver esse sistema."
      ],
      "metadata": {
        "id": "bmGpF1ijjmAS"
      }
    },
    {
      "cell_type": "markdown",
      "source": [
        "**c) Considere α = 1 e resolva o sistema pelo Método de Eliminação de Gauss**"
      ],
      "metadata": {
        "id": "22kHv5mbhNWL"
      }
    },
    {
      "cell_type": "code",
      "source": [
        "A7 = np.array([[1, 1, 3],\n",
        "              [1, 1, 4],\n",
        "              [5, 2, 1]], dtype=float)\n",
        "b7 = np.array([-2, -3, 4], dtype=float)\n",
        "print(f'--> RESULTADO: {eliminacaoGauss(3, A7, b7)}\\n\\n')"
      ],
      "metadata": {
        "colab": {
          "base_uri": "https://localhost:8080/"
        },
        "id": "V6XyH8l7z1JU",
        "outputId": "5db7a180-a40c-4f80-d705-a932a19ef150"
      },
      "execution_count": 16,
      "outputs": [
        {
          "output_type": "stream",
          "name": "stdout",
          "text": [
            "\n",
            "=== ELIMINAÇÃO DE GAUSS ===\n",
            "\n",
            "A = \n",
            "[[ 5.   2.   1. ]\n",
            " [ 0.   0.6  3.8]\n",
            " [ 0.   0.  -1. ]]\n",
            "\n",
            "b = [ 4.  -3.8  1. ]\n",
            "\n",
            "Det = 3.0 \t Info = 0.0\n",
            "\n",
            "--> RESULTADO: [ 1.  0. -1.]\n",
            "\n",
            "\n"
          ]
        }
      ]
    },
    {
      "cell_type": "markdown",
      "source": [
        "A Eliminação de Gauss demonstra sua eficácia ao ser aplicada, mesmo em cenários nos quais a matriz não é simétrica ou singular, condições que inviabilizam a aplicação dos métodos Cholesky e LU. Esta eficácia vem da ausência de restrições específicas nesse método, permitindo sua aplicação a uma ampla variedade de matrizes."
      ],
      "metadata": {
        "id": "wx853EbK13AX"
      }
    },
    {
      "cell_type": "markdown",
      "source": [
        "###Questão 4\n",
        "**Uma equipe de três paraquedistas ligados por uma corda de peso desprezável é\n",
        "lançada em queda livre a uma velocidade v = 5 m/s. Considere os seguintes dados:**\n",
        "\\begin{array}{c|ccc}\n",
        "    Paraquedista (i) & Massa (mi) Kg & Coef. de resistência (ci) (Kg/s) \\\\\n",
        "    \\hline\n",
        "    1 & 70 & 10 \\\\\n",
        "    2 & 60 & 14 \\\\\n",
        "    3 & 40 & 17 \\\\\n",
        "\\end{array}\n",
        "\n",
        "**O sistema linear resultante permite calcular a tensão em cada secção da corda (R e T ) e a aceleração da equipe (a)**\n",
        "\\begin{equation}\n",
        "\\begin{cases}\n",
        "    m1. g – c1. v – T = m1 . a \\\\\n",
        "    m2. g – c2. v + T – R = m2 . a \\\\\n",
        "    m3. g – c3. v + R = m3 . a \\\\\n",
        "\\end{cases}\n",
        "\\end{equation}\n",
        "\n",
        "**(considere g = 9.8 m/s2).**\n",
        "\n",
        "**O que poderia dizer acerca da convergência do mé todo iterativo de Gauss-Seidel quando aplicado ao sistema? Justifique**"
      ],
      "metadata": {
        "id": "ByRV87i0TKG5"
      }
    },
    {
      "cell_type": "markdown",
      "source": [
        "Substituindo os dados temos:\n",
        "\\begin{equation}\n",
        "\\begin{cases}\n",
        "    70 * 9.8 - 10 * 5 - t = 70 * a  \\\\\n",
        "    60 * 9.8 - 14 * 5 + t - r = 60 * a \\\\\n",
        "    40 * 9.8 - 17 * 5 + r = 40 * a \\\\\n",
        "\\end{cases}\n",
        "\\end{equation}\n",
        "\n",
        "Simplificando e deixando as incógnitas do lado esquerdo temos o seguinte sistema:\n",
        "\n",
        "\\begin{equation}\n",
        "\\begin{cases}\n",
        "    t + 70a =  636  \\\\\n",
        "    t - r - 60a = -518 \\\\\n",
        "    r - 40a = -307 \\\\\n",
        "\\end{cases}\n",
        "\\end{equation}\n",
        "\n",
        "Assim, podemos montar a matriz correpondente e executar o método de Gauss-Seidel:"
      ],
      "metadata": {
        "id": "iYUe6Pzm5Xbn"
      }
    },
    {
      "cell_type": "code",
      "source": [
        "A8 = np.array([[1, 0, 70],\n",
        "              [1, -1, -60],\n",
        "              [0, 1, -40]], dtype=float)\n",
        "b8 = np.array([636, -518, -307], dtype=float)\n",
        "print(f'--> RESULTADO: {gaussSeidel(3, A8, b8, 0.001, 100)}\\n\\n')"
      ],
      "metadata": {
        "colab": {
          "base_uri": "https://localhost:8080/"
        },
        "id": "lvZp-8BJ89B0",
        "outputId": "82ebd8a0-c9e9-41fd-9714-346ef66da99d"
      },
      "execution_count": 17,
      "outputs": [
        {
          "output_type": "stream",
          "name": "stdout",
          "text": [
            "\n",
            "=== GAUSS SEIDEL ===\n",
            "Verificações dos critérios de convergência: \n",
            " - Não atende ao critério do Raio Espectral\n",
            " - A matriz NÃO é Diagonalmente Dominante (não atende críterio das linhas nem das colunas)\n",
            " - A matriz NÃO antende ao critério de sassenfield\n",
            "\n",
            "\n",
            "--> RESULTADO: ERRO: Não é possivel aplicar o método\n",
            "\n",
            "\n"
          ]
        }
      ]
    },
    {
      "cell_type": "markdown",
      "source": [
        "Como é possível perceber o método não passou por nenhum dos três critérios de convergência. Logo, indica que o sistema não está em conformidade com os requisitos necessários para o método de Gauss-Seidel. Isso torna inviável o uso desse método para resolver o sistema em questão.\n",
        "\n",
        "Se os critérios não forem atendidos, o método de Gauss-Seidel pode não convergir, levando a iterações indefinidas ou atingindo o número máximo estabelecido. Nessas circunstâncias, é essencial considerar outras abordagens, como o método direto de eliminação de Gauss, que podem ser mais adequadas em determinadas situações."
      ],
      "metadata": {
        "id": "Xw6fIRrLYevz"
      }
    },
    {
      "cell_type": "markdown",
      "source": [
        "###Questão 5\n",
        "**Resolva o seguinte sistema de equações**\n",
        "\\begin{equation}\n",
        "\\begin{cases}\n",
        "    1,05 x1 + 2,05 x2 = 5,15 \\\\\n",
        "    1,1 x1 + 2,0 x2 = 5,1 \\\\\n",
        "\\end{cases}\n",
        "\\end{equation}\n",
        "\n",
        "**a) Graficamente.**\n"
      ],
      "metadata": {
        "id": "xpiwN2k1UgQv"
      }
    },
    {
      "cell_type": "markdown",
      "source": [
        "Para resolver este exercício primeiramente deve-se isolar cada equação para deixar tudo em função de uma variavel, nesse caso x2 será isolada. Resultando em:\n",
        "\n",
        "\\begin{align}\n",
        "    x_2 &= \\frac{5.15 - 1.05 \\cdot x_1}{2.05} \\\\\n",
        "    x_2 &= \\frac{5.1 - 1.1 \\cdot x_1}{2.0}\n",
        "\\end{align}\n",
        "\n",
        "Dessa forma é possível plotar o gráfico da função:"
      ],
      "metadata": {
        "id": "B3nXgtVkanHl"
      }
    },
    {
      "cell_type": "code",
      "source": [
        "def f1(x):\n",
        "    return (5.15 - 1.05 * x) / 2.05\n",
        "\n",
        "def f2(x):\n",
        "    return (5.1 - 1.1 * x) / 2.0\n",
        "\n",
        "x = np.linspace(-1, 3, 10)\n",
        "y1 = f1(x)\n",
        "y2 = f2(x)\n",
        "\n",
        "plt.plot(x, y1, label='função 1')\n",
        "plt.plot(x, y2, label='função 2')\n",
        "\n",
        "plt.title('Questão 5')\n",
        "plt.xlabel('x1')\n",
        "plt.ylabel('x2')\n",
        "plt.legend()\n",
        "plt.axhline(0, color='black', linewidth=0.5)\n",
        "plt.axvline(0, color='black', linewidth=0.5)\n",
        "\n",
        "# Exiba o gráfico\n",
        "plt.grid(True)\n",
        "plt.show()"
      ],
      "metadata": {
        "colab": {
          "base_uri": "https://localhost:8080/",
          "height": 472
        },
        "id": "tQsu2inxawl3",
        "outputId": "02840254-4f82-4708-e0f5-5b3df66f3ce9"
      },
      "execution_count": 18,
      "outputs": [
        {
          "output_type": "display_data",
          "data": {
            "text/plain": [
              "<Figure size 640x480 with 1 Axes>"
            ],
            "image/png": "[encoded data removed]"
          },
          "metadata": {}
        }
      ]
    },
    {
      "cell_type": "markdown",
      "source": [
        "Ao observar o gráfico é possível perceber que o ponto de encontro das duas funções acontece muito próximo de x1 e x2"
      ],
      "metadata": {
        "id": "0-KRL9DEchHK"
      }
    },
    {
      "cell_type": "markdown",
      "source": [
        "**b) Por Eliminação de Gauss com Pivotamento Parcial, de modo exato.**"
      ],
      "metadata": {
        "id": "RJs7D9dJLBpz"
      }
    },
    {
      "cell_type": "code",
      "source": [
        "A9 = np.array([[1.05, 2.05],[1.1, 2.0]], dtype=float)\n",
        "b9 = np.array([5.15, 5.1], dtype=float)\n",
        "\n",
        "print(f'--> RESULTADO: {eliminacaoGauss(2, A9, b9)}\\n\\n')"
      ],
      "metadata": {
        "colab": {
          "base_uri": "https://localhost:8080/"
        },
        "id": "ZR1LOhSHLJl-",
        "outputId": "c85a5ea3-3d61-4053-a2a1-5bb887f1f3bf"
      },
      "execution_count": 19,
      "outputs": [
        {
          "output_type": "stream",
          "name": "stdout",
          "text": [
            "\n",
            "=== ELIMINAÇÃO DE GAUSS ===\n",
            "\n",
            "A = \n",
            "[[1.1        2.        ]\n",
            " [0.         0.14090909]]\n",
            "\n",
            "b = [5.1        0.28181818]\n",
            "\n",
            "Det = -0.15499999999999925 \t Info = 0.0\n",
            "\n",
            "--> RESULTADO: [1. 2.]\n",
            "\n",
            "\n"
          ]
        }
      ]
    },
    {
      "cell_type": "markdown",
      "source": [
        "O resultado encontrado utilizando pivotamento parcial e sem arredondamento foi x1 = 1 e x2 = 2"
      ],
      "metadata": {
        "id": "KBOVyR--dpZH"
      }
    },
    {
      "cell_type": "markdown",
      "source": [
        "**c) Por Eliminação de Gauss com Pivotamento Parcial, mas com três algarismos significativos, utilizando arredondamento.**"
      ],
      "metadata": {
        "id": "clrhyZnbLD11"
      }
    },
    {
      "cell_type": "code",
      "source": [
        "A10 = np.array([[1.05, 2.05],[1.1, 2.0]], dtype=float)\n",
        "b10 = np.array([5.15, 5.1], dtype=float)\n",
        "print(f'--> RESULTADO: {eliminacaoGauss(2, A10, b10, 3)}\\n\\n')"
      ],
      "metadata": {
        "colab": {
          "base_uri": "https://localhost:8080/"
        },
        "id": "Gw-CCNdqL4Tu",
        "outputId": "53507ae3-1fb2-4877-ee23-6fc3342f8a01"
      },
      "execution_count": 20,
      "outputs": [
        {
          "output_type": "stream",
          "name": "stdout",
          "text": [
            "\n",
            "=== ELIMINAÇÃO DE GAUSS ===\n",
            "\n",
            "A = \n",
            "[[1.1   2.   ]\n",
            " [0.    0.142]]\n",
            "\n",
            "b = [5.1   0.285]\n",
            "\n",
            "Det = -0.156 \t Info = 0.0\n",
            "\n",
            "--> RESULTADO: [0.987 2.007]\n",
            "\n",
            "\n"
          ]
        }
      ]
    },
    {
      "cell_type": "markdown",
      "source": [
        "O resultado encontrado utilizando pivotamento parcial e com arredondamento de três casas decimais foi um pouco diferente foi x1 = 0.987 e x2 = 2.007"
      ],
      "metadata": {
        "id": "_4K6OtRTdzy0"
      }
    },
    {
      "cell_type": "markdown",
      "source": [
        "**d) Justifique os resultados obtidos.**"
      ],
      "metadata": {
        "id": "TMayc7mGLFfw"
      }
    },
    {
      "cell_type": "markdown",
      "source": [
        "Graficamente visualizamos que o resultado de x1 e x2 está próximo de 1 e 2, na próxima execução confirmamos os pontos x1 = 1 e x2 = 2 (modo exato) e na última execução obtivemos resultados diferentes apesar de serem próximos.\n",
        "Primeiramente, vale destacar que quando se está utilizando um método com arredondamento, está introduzindo uma forma de erro de arredondamento, no qual espera-se afetar a precisão dos resultados. Isso realmente acontece como foi percebido.\n",
        "\n",
        "É importante destacar que o pivoteamento é uma estratégia que visa reduzir estes problemas de arredondamento durante a Eliminação de Gauss. A ideia principal é escolher o elemento pivô de cada coluna de forma a minimizar os erros de arredondamento. No Pivoteamento Parcial está se escolhendo o maior elemento em módulo como pivô. Isso ajuda a minimizar os efeitos de arredondamento, pois números maiores geralmente têm uma representação mais precisa em aritmética de ponto flutuante.\n",
        "\n",
        "Portanto, esses resultados evidenciam que mesmo que os resultados sem e com arredondamento se aproximem graficamente, a sensibilidade do método de eliminação de Gauss às pequenas variações nos cálculos pode levar a soluções ligeiramente diferentes."
      ],
      "metadata": {
        "id": "jxDnyhBuePJp"
      }
    }
  ]
}